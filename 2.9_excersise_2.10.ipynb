{
 "cells": [
  {
   "cell_type": "markdown",
   "id": "17e08284",
   "metadata": {},
   "source": [
    "Exercise 2.10 Suppose you face a 2-armed bandit task whose true action values change\n",
    "randomly from time step to time step. Specifically, suppose that, for any time step,\n",
    "the true values of actions 1 and 2 are respectively 10 and 20 with probability 0.5 (case\n",
    "A), and 90 and 80 with probability 0.5 (case B). If you are not able to tell which case\n",
    "you face at any step, what is the best expected reward you can achieve and how should\n",
    "you behave to achieve it? Now suppose that on each step you are told whether you are\n",
    "facing case A or case B (although you still don’t know the true action values). This is an\n",
    "associative search task. What is the best expected reward you can achieve in this task,\n",
    "and how should you behave to achieve it?"
   ]
  },
  {
   "cell_type": "code",
   "execution_count": null,
   "id": "811129d4",
   "metadata": {},
   "outputs": [],
   "source": []
  }
 ],
 "metadata": {
  "language_info": {
   "name": "python"
  }
 },
 "nbformat": 4,
 "nbformat_minor": 5
}
