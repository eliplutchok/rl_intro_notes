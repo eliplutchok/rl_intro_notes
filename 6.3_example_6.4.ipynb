{
 "cells": [
  {
   "cell_type": "code",
   "execution_count": 36,
   "id": "81165665",
   "metadata": {},
   "outputs": [],
   "source": [
    "STATE_A = 'A'\n",
    "STATE_B = 'B'\n",
    "\n",
    "episodes = [\n",
    "    [(STATE_A, 0), (STATE_B, 0)],\n",
    "    [(STATE_B, 1)],\n",
    "    [(STATE_B, 1)],\n",
    "    [(STATE_B, 1)],\n",
    "    [(STATE_B, 1)],\n",
    "    [(STATE_B, 1)],\n",
    "    [(STATE_B, 1)],\n",
    "    [(STATE_B, 0)],\n",
    "]"
   ]
  },
  {
   "cell_type": "code",
   "execution_count": 37,
   "id": "becd3bcb",
   "metadata": {},
   "outputs": [],
   "source": [
    "def update_state_values_td(state_values, episode, alpha):\n",
    "    for i in range(len(episode)):\n",
    "        state, reward = episode[i]\n",
    "        if i == len(episode) - 1:\n",
    "            next_state_value = 0\n",
    "        else:\n",
    "            next_state, _ = episode[i + 1]\n",
    "            next_state_value = state_values[next_state]\n",
    "        \n",
    "        error = reward + next_state_value - state_values[state]\n",
    "        state_values[state] += alpha * error\n",
    "    return state_values\n",
    "\n",
    "def update_state_values_mc(state_values, episode, alpha):\n",
    "    total_return = 0\n",
    "    for state, reward in reversed(episode):\n",
    "        total_return += reward\n",
    "        state_values[state] += alpha * (total_return - state_values[state])\n",
    "\n",
    "    return state_values\n",
    "\n",
    "def get_total_divergence(previous_state_values, state_values):\n",
    "    total_divergence = 0\n",
    "    for key, value in state_values.items():\n",
    "        total_divergence += (value - previous_state_values[key]) ** 2\n",
    "    return total_divergence\n",
    "\n",
    "def run_batch_learning(alpha, update_function, episodes):\n",
    "    state_values = {\n",
    "        'A': 0,\n",
    "        'B': 0,\n",
    "    }\n",
    "    previous_state_values = {\n",
    "        'A': float('inf'),\n",
    "        'B': float('inf'),\n",
    "    }\n",
    "    epsilon = 0.00000000001\n",
    "    while get_total_divergence(previous_state_values, state_values) > epsilon:\n",
    "        previous_state_values = state_values.copy()\n",
    "        for episode in episodes:\n",
    "            state_values = update_function(state_values, episode, alpha)\n",
    "\n",
    "    return state_values"
   ]
  },
  {
   "cell_type": "code",
   "execution_count": 38,
   "id": "5faa495e",
   "metadata": {},
   "outputs": [
    {
     "name": "stdout",
     "output_type": "stream",
     "text": [
      "{'A': 0.7496016162048674, 'B': 0.749911629550885}\n",
      "{'A': 0.0, 'B': 0.7498765444177047}\n"
     ]
    }
   ],
   "source": [
    "result_td = run_batch_learning(0.01, update_state_values_td, episodes)\n",
    "result_mc = run_batch_learning(0.01, update_state_values_mc, episodes)\n",
    "\n",
    "print(result_td)\n",
    "print(result_mc)"
   ]
  }
 ],
 "metadata": {
  "kernelspec": {
   "display_name": "venv",
   "language": "python",
   "name": "python3"
  },
  "language_info": {
   "codemirror_mode": {
    "name": "ipython",
    "version": 3
   },
   "file_extension": ".py",
   "mimetype": "text/x-python",
   "name": "python",
   "nbconvert_exporter": "python",
   "pygments_lexer": "ipython3",
   "version": "3.12.7"
  }
 },
 "nbformat": 4,
 "nbformat_minor": 5
}
