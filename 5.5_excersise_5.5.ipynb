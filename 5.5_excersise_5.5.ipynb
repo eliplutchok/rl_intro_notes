{
 "cells": [
  {
   "cell_type": "markdown",
   "id": "e2d90ce9",
   "metadata": {},
   "source": [
    "Exercise 5.5 Consider an MDP with a single nonterminal state and a single action\n",
    "that transitions back to the nonterminal state with probability p and transitions to the\n",
    "terminal state with probability 1p. Let the reward be +1 on all transitions, and let\n",
    " = 1. Suppose you observe one episode that lasts 10 steps, with a return of 10. What\n",
    "are the first-visit and every-visit estimators of the value of the nonterminal state?"
   ]
  },
  {
   "cell_type": "code",
   "execution_count": null,
   "id": "618d42a0",
   "metadata": {},
   "outputs": [
    {
     "name": "stdout",
     "output_type": "stream",
     "text": [
      "first_visit_return:  10\n",
      "every_visit_return:  5.5\n"
     ]
    }
   ],
   "source": [
    "ACTION_A = 1\n",
    "NON_TERMINAL_STATE = 0\n",
    "TERMINAL_STATE = 1\n",
    "\n",
    "episode =[\n",
    "    (NON_TERMINAL_STATE, ACTION_A, 1),\n",
    "    (NON_TERMINAL_STATE, ACTION_A, 1),\n",
    "    (NON_TERMINAL_STATE, ACTION_A, 1),\n",
    "    (NON_TERMINAL_STATE, ACTION_A, 1),\n",
    "    (NON_TERMINAL_STATE, ACTION_A, 1),\n",
    "    (NON_TERMINAL_STATE, ACTION_A, 1),\n",
    "    (NON_TERMINAL_STATE, ACTION_A, 1),\n",
    "    (NON_TERMINAL_STATE, ACTION_A, 1),\n",
    "    (NON_TERMINAL_STATE, ACTION_A, 1),\n",
    "    (NON_TERMINAL_STATE, ACTION_A, 1)\n",
    "]\n",
    "\n",
    "total_return = 0\n",
    "first_visit_return = 0\n",
    "every_visit_return = 0\n",
    "count_of_visits = 0\n",
    "\n",
    "for state, action, reward in reversed(episode):\n",
    "    total_return += reward\n",
    "    if state == NON_TERMINAL_STATE:\n",
    "        count_of_visits += 1\n",
    "        first_visit_return = total_return\n",
    "        every_visit_return = every_visit_return + (1 / count_of_visits) * (total_return - every_visit_return)\n",
    "\n",
    "print(\"first_visit_return: \", first_visit_return)\n",
    "print(\"every_visit_return: \", every_visit_return)\n"
   ]
  }
 ],
 "metadata": {
  "kernelspec": {
   "display_name": "venv",
   "language": "python",
   "name": "python3"
  },
  "language_info": {
   "codemirror_mode": {
    "name": "ipython",
    "version": 3
   },
   "file_extension": ".py",
   "mimetype": "text/x-python",
   "name": "python",
   "nbconvert_exporter": "python",
   "pygments_lexer": "ipython3",
   "version": "3.12.7"
  }
 },
 "nbformat": 4,
 "nbformat_minor": 5
}
