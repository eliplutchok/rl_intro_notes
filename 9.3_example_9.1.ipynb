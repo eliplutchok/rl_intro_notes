{
 "cells": [
  {
   "cell_type": "markdown",
   "id": "05280f4c",
   "metadata": {},
   "source": [
    "## Example 9.1: State Aggregation on the 1000-State Random Walk\n",
    "\n",
    "Consider a 1000-state version of the random walk task (Examples 6.2 and 7.1 on pages 125 and 144). The states are numbered from 1 to 1000, left to right, and all episodes begin near the center, in state **500**.\n",
    "\n",
    "State transitions are from the current state to one of the **100 neighboring states to its left** or to one of the **100 neighboring states to its right**, all with equal probability.\n",
    "\n",
    "If the current state is near an edge, then there may be fewer than 100 neighbors on that side. In this case, all the probability that would have gone into those missing neighbors goes into the probability of terminating on that side.\n",
    "\n",
    "For example:\n",
    "\n",
    "* State **1** has a 0.5 chance of terminating on the left.\n",
    "* State **950** has a 0.25 chance of terminating on the right.\n",
    "\n",
    "**Rewards**:\n",
    "\n",
    "* Termination on the left produces a reward of **–1**.\n",
    "* Termination on the right produces a reward of **+1**.\n",
    "* All other transitions have a reward of **0**.\n",
    "\n",
    "We use this task as a running example throughout this section.\n"
   ]
  },
  {
   "cell_type": "code",
   "execution_count": 8,
   "id": "7c327375",
   "metadata": {},
   "outputs": [],
   "source": [
    "import numpy as np\n",
    "import matplotlib.pyplot as plt\n",
    "\n",
    "num_states = 1000\n",
    "max_step = 100\n",
    "p_each = 1.0 / (2 * max_step)\n",
    "\n",
    "A = np.zeros((num_states, num_states), dtype=np.float64)\n",
    "b = np.zeros(num_states, dtype=np.float64)\n",
    "\n",
    "for s in range(1, num_states + 1):\n",
    "    row = s - 1\n",
    "    for k in range(1, max_step + 1):\n",
    "        left = s - k\n",
    "        if left >= 1:\n",
    "            A[row, left - 1] += p_each\n",
    "        else:\n",
    "            b[row] += -1.0 * p_each\n",
    "        right = s + k\n",
    "        if right <= num_states:\n",
    "            A[row, right - 1] += p_each\n",
    "        else:\n",
    "            b[row] += +1.0 * p_each\n",
    "\n",
    "TRUE_VALUES = np.linalg.solve(np.eye(num_states, dtype=np.float64) - A, b)\n",
    "\n",
    "\n",
    "def get_next_state_and_reward(state, action):\n",
    "    proposed_next_state = state + action\n",
    "    if proposed_next_state < 1:\n",
    "        return 'terminal', -1\n",
    "    elif proposed_next_state > num_states:\n",
    "        return 'terminal', 1\n",
    "    else:\n",
    "        return proposed_next_state, 0\n",
    "\n",
    "def get_next_action():\n",
    "    action = np.random.randint(-100, 101)\n",
    "    if action == 0:\n",
    "        action = np.random.choice([-1, 1])\n",
    "    return action\n",
    "\n",
    "def generate_episode():\n",
    "    state = 500\n",
    "    episode = []\n",
    "    while state != 'terminal':\n",
    "        action = get_next_action()\n",
    "        next_state, reward = get_next_state_and_reward(state, action)\n",
    "        episode.append((state, action, reward))\n",
    "        state = next_state\n",
    "    return episode\n",
    "\n",
    "def get_vector_from_state(state):\n",
    "    # one hot encoding\n",
    "    vector = np.zeros(10)\n",
    "    position = (state - 1) // 100\n",
    "    vector[position] = 1\n",
    "    return vector\n",
    "\n",
    "def value_function(W, state):\n",
    "    return np.dot(W, get_vector_from_state(state))\n",
    "\n",
    "def gradient_monte_carlo(W, state):\n",
    "    return get_vector_from_state(state)\n",
    "\n",
    "def train_gradient_monte_carlo(num_episodes, alpha):\n",
    "    W = np.zeros(10)\n",
    "    for _ in range(num_episodes):\n",
    "        episode = generate_episode()\n",
    "        episode_return = episode[-1][2]\n",
    "        for state, _, _ in episode:\n",
    "            W += alpha * (episode_return - value_function(W, state)) * gradient_monte_carlo(W, state)\n",
    "    return W\n",
    "\n",
    "W = train_gradient_monte_carlo(100000, 2e-5)"
   ]
  },
  {
   "cell_type": "code",
   "execution_count": 9,
   "id": "29d86a7d",
   "metadata": {},
   "outputs": [
    {
     "data": {
      "image/png": "[encoded data removed]",
      "text/plain": [
       "<Figure size 640x480 with 1 Axes>"
      ]
     },
     "metadata": {},
     "output_type": "display_data"
    }
   ],
   "source": [
    "# generate values for the 1000 states\n",
    "values = np.zeros(num_states)\n",
    "for state in range(1, num_states + 1):\n",
    "    values[state - 1] = value_function(W, state)\n",
    "\n",
    "plt.plot(values)\n",
    "plt.plot(TRUE_VALUES)\n",
    "plt.show()"
   ]
  }
 ],
 "metadata": {
  "kernelspec": {
   "display_name": "venv",
   "language": "python",
   "name": "python3"
  },
  "language_info": {
   "codemirror_mode": {
    "name": "ipython",
    "version": 3
   },
   "file_extension": ".py",
   "mimetype": "text/x-python",
   "name": "python",
   "nbconvert_exporter": "python",
   "pygments_lexer": "ipython3",
   "version": "3.12.7"
  }
 },
 "nbformat": 4,
 "nbformat_minor": 5
}
