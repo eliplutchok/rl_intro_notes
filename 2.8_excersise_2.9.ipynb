{
 "cells": [
  {
   "cell_type": "markdown",
   "id": "6d0ce3e5",
   "metadata": {},
   "source": [
    "Show that in the case of two actions, the soft-max distribution is the same\n",
    "as that given by the logistic, or sigmoid, function often used in statistics and artificial\n",
    "neural networks."
   ]
  },
  {
   "cell_type": "code",
   "execution_count": 1,
   "id": "7c195d78",
   "metadata": {},
   "outputs": [],
   "source": [
    "import numpy as np"
   ]
  },
  {
   "cell_type": "code",
   "execution_count": 4,
   "id": "7be4c0ed",
   "metadata": {},
   "outputs": [
    {
     "name": "stdout",
     "output_type": "stream",
     "text": [
      "7.0\n",
      "0.26816826831837\n",
      "[6.64722679e-04 1.80690358e-03 2.68168268e-01 4.03174685e-04\n",
      " 7.28956931e-01]\n"
     ]
    }
   ],
   "source": [
    "def softmax_specific_value(specific_value, all_values):\n",
    "    return np.exp(specific_value) / np.sum(np.exp(all_values))\n",
    "\n",
    "def softmax_all_values(all_values):\n",
    "    return np.exp(all_values) / np.sum(np.exp(all_values))\n",
    "\n",
    "# example usage\n",
    "our_values = np.array([1, 2, 7, .5, 8])\n",
    "specific_value = our_values[2]\n",
    "\n",
    "print(specific_value)\n",
    "print(softmax_specific_value(specific_value, our_values))\n",
    "print(softmax_all_values(our_values))"
   ]
  },
  {
   "cell_type": "code",
   "execution_count": 12,
   "id": "9dff0804",
   "metadata": {},
   "outputs": [
    {
     "name": "stdout",
     "output_type": "stream",
     "text": [
      "0.2689414213699951\n",
      "0.2689414213699951\n",
      "0.7310585786300049\n",
      "0.7310585786300049\n"
     ]
    }
   ],
   "source": [
    "def logistic_function(specific_value):\n",
    "    return 1 / (1 + np.exp(-specific_value))\n",
    "\n",
    "our_values = np.array([1, 2])\n",
    "\n",
    "print(logistic_function(our_values[0] - our_values[1]))\n",
    "print(softmax_specific_value(our_values[0], our_values))\n",
    "\n",
    "\n",
    "print(logistic_function(our_values[1] - our_values[0]))\n",
    "print(softmax_specific_value(our_values[1], our_values))"
   ]
  }
 ],
 "metadata": {
  "kernelspec": {
   "display_name": "venv",
   "language": "python",
   "name": "python3"
  },
  "language_info": {
   "codemirror_mode": {
    "name": "ipython",
    "version": 3
   },
   "file_extension": ".py",
   "mimetype": "text/x-python",
   "name": "python",
   "nbconvert_exporter": "python",
   "pygments_lexer": "ipython3",
   "version": "3.12.7"
  }
 },
 "nbformat": 4,
 "nbformat_minor": 5
}
