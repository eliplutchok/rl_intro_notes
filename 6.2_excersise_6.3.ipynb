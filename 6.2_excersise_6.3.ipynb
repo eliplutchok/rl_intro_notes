{
 "cells": [
  {
   "cell_type": "markdown",
   "id": "a686d29d",
   "metadata": {},
   "source": [
    "From the results shown in the left graph of the random walk example it\n",
    "appears that the first episode results in a change in only V (A). What does this tell you\n",
    "about what happened on the first episode? Why was only the estimate for this one state\n",
    "changed? By exactly how much was it changed?"
   ]
  },
  {
   "cell_type": "markdown",
   "id": "71073ca2",
   "metadata": {},
   "source": [
    "the value for state A goes down, nothing else changes.\n",
    "the episode must have been:\n"
   ]
  },
  {
   "cell_type": "code",
   "execution_count": null,
   "id": "32e4dcef",
   "metadata": {
    "vscode": {
     "languageId": "plaintext"
    }
   },
   "outputs": [],
   "source": []
  }
 ],
 "metadata": {
  "language_info": {
   "name": "python"
  }
 },
 "nbformat": 4,
 "nbformat_minor": 5
}
