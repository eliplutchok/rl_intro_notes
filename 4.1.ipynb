{
 "cells": [
  {
   "cell_type": "markdown",
   "id": "e338c752",
   "metadata": {},
   "source": [
    "![grid](assets/4.1_grid_convergence.png)"
   ]
  },
  {
   "cell_type": "code",
   "execution_count": null,
   "id": "0136bd12",
   "metadata": {},
   "outputs": [
    {
     "name": "stdout",
     "output_type": "stream",
     "text": [
      "0.00 -14.00 -20.00 -22.00 \n",
      "-14.00 -18.00 -20.00 -20.00 \n",
      "-20.00 -20.00 -18.00 -14.00 \n",
      "-22.00 -20.00 -14.00 0.00 \n"
     ]
    }
   ],
   "source": [
    "# lets reproduce the above image\n",
    "r = -1\n",
    "\n",
    "v_k = [\n",
    "    [0.0, 0.0, 0.0, 0.0],\n",
    "    [0.0, 0.0, 0.0, 0.0],\n",
    "    [0.0, 0.0, 0.0, 0.0],\n",
    "    [0.0, 0.0, 0.0, 0.0]\n",
    "]\n",
    "\n",
    "v_k_minus_1 = [\n",
    "    [0.0, 0.0, 0.0, 0.0],\n",
    "    [0.0, 0.0, 0.0, 0.0],\n",
    "    [0.0, 0.0, 0.0, 0.0],\n",
    "    [0.0, 0.0, 0.0, 0.0]\n",
    "]\n",
    "\n",
    "dirs = [(0, 1), (1, 0), (0, -1), (-1, 0)]\n",
    "\n",
    "for iteration in range(1000):\n",
    "    v_k_minus_1 = v_k.copy()\n",
    "    v_k = [\n",
    "        [0.0, 0.0, 0.0, 0.0],\n",
    "        [0.0, 0.0, 0.0, 0.0],\n",
    "        [0.0, 0.0, 0.0, 0.0],\n",
    "        [0.0, 0.0, 0.0, 0.0]\n",
    "    ]\n",
    "\n",
    "    for i in range(len(v_k)):\n",
    "        for j in range(len(v_k[i])):\n",
    "            new_v = 0\n",
    "            if i == 0 and j == 0 or i == len(v_k) - 1 and j == len(v_k[i]) - 1:\n",
    "                new_v = 0\n",
    "            else:\n",
    "                values = []\n",
    "                for dir in dirs:\n",
    "                    new_i, new_j = i + dir[0], j + dir[1]\n",
    "                    if new_i < 0 or new_i >= len(v_k) or new_j < 0 or new_j >= len(v_k[i]):\n",
    "                        values.append(v_k_minus_1[i][j])\n",
    "                    else:\n",
    "                        values.append(v_k_minus_1[new_i][new_j])\n",
    "                new_v = r + sum(values) / len(values)\n",
    "            v_k[i][j] = new_v\n",
    "\n",
    "for i in range(len(v_k)):\n",
    "    for j in range(len(v_k[i])):\n",
    "        print(f\"{v_k[i][j]:.2f}\", end=\" \")\n",
    "    print()"
   ]
  }
 ],
 "metadata": {
  "kernelspec": {
   "display_name": "venv",
   "language": "python",
   "name": "python3"
  },
  "language_info": {
   "codemirror_mode": {
    "name": "ipython",
    "version": 3
   },
   "file_extension": ".py",
   "mimetype": "text/x-python",
   "name": "python",
   "nbconvert_exporter": "python",
   "pygments_lexer": "ipython3",
   "version": "3.12.7"
  }
 },
 "nbformat": 4,
 "nbformat_minor": 5
}
