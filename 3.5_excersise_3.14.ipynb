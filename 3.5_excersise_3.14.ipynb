{
 "cells": [
  {
   "cell_type": "markdown",
   "id": "91597d96",
   "metadata": {},
   "source": [
    "Exercise 3.14 The Bellman equation (3.14) must hold for each state for the value function\n",
    "v⇡ shown in Figure 3.2 (right) of Example 3.5. Show numerically that this equation holds\n",
    "for the center state, valued at +0.7, with respect to its four neighboring states, valued at\n",
    "+2.3, +0.4, 0.4, and +0.7. (These numbers are accurate only to one decimal place.) "
   ]
  },
  {
   "cell_type": "markdown",
   "id": "ff5481af",
   "metadata": {},
   "source": [
    "![gridworld](assets/3.5_gridworld.png)"
   ]
  },
  {
   "cell_type": "code",
   "execution_count": null,
   "id": "20fde4a8",
   "metadata": {},
   "outputs": [],
   "source": [
    "import numpy as np\n",
    "\n",
    "# padded gridworld with negative ones\n",
    "gridworld_values = np.array([\n",
    "    [ -1,   -1,   -1,   -1,   -1,   -1,   -1],\n",
    "    [ -1,  3.3,  8.8,  4.4,  5.3,  1.5,   -1],\n",
    "    [ -1,  1.5,  3.0,  2.3,  1.9,  0.5,   -1],\n",
    "    [ -1,  0.1,  0.7,  0.7,  0.4, -0.4,   -1],\n",
    "    [ -1,  1.0, -0.4, -0.4, -0.6, -1.2,   -1],\n",
    "    [ -1, -1.9, -1.3, -1.2, -1.4, -2.0,   -1],\n",
    "    [ -1,   -1,   -1,   -1,   -1,   -1,   -1]\n",
    "])"
   ]
  },
  {
   "cell_type": "code",
   "execution_count": null,
   "id": "068b3fad",
   "metadata": {},
   "outputs": [
    {
     "name": "stdout",
     "output_type": "stream",
     "text": [
      "0.6749999999999999\n"
     ]
    }
   ],
   "source": [
    "state_to_check = (3, 3)\n",
    "value = gridworld_values[state_to_check]\n",
    "\n",
    "directions = [(0, 1), (0, -1), (1, 0), (-1, 0)] # right, left, down, up\n",
    "neighboring_states = [\n",
    "    (state_to_check[0] + direction[0], state_to_check[1] + direction[1]) for direction in directions\n",
    "]\n",
    "# numpy lets us index with tuples :)\n",
    "neighboring_values = [gridworld_values[state] for state in neighboring_states]\n",
    "\n",
    "discount_factor = 0.9\n",
    "\n",
    "value = 0\n",
    "for neighboring_value in neighboring_values:\n",
    "    value += discount_factor * neighboring_value / len(neighboring_values)\n",
    "\n",
    "print(value)"
   ]
  }
 ],
 "metadata": {
  "kernelspec": {
   "display_name": "venv",
   "language": "python",
   "name": "python3"
  },
  "language_info": {
   "codemirror_mode": {
    "name": "ipython",
    "version": 3
   },
   "file_extension": ".py",
   "mimetype": "text/x-python",
   "name": "python",
   "nbconvert_exporter": "python",
   "pygments_lexer": "ipython3",
   "version": "3.12.7"
  }
 },
 "nbformat": 4,
 "nbformat_minor": 5
}
